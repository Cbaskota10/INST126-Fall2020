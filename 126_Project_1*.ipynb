{
 "cells": [
  {
   "cell_type": "markdown",
   "metadata": {},
   "source": [
    "#This function is to add two numbers\n",
    "def addition(a, b):\n",
    "    return a + b\n",
    "#This function is to subtract two numbers\n",
    "def subtraction(a, b):\n",
    "    return a - b\n",
    "#This function is to multiply two numbers\n",
    "def multiplication(a, b):\n",
    "    return a * b\n",
    "#This function is to divide two numbers\n",
    "def division(a, b):\n",
    "    return a / b\n",
    "\n",
    "#This is what the user will see in the start of the application\n",
    "print(\"Please select an operation.\")\n",
    "print(\"1. Addition\")\n",
    "print(\"2. Subtraction\")\n",
    "print(\"3. Multiplication\")\n",
    "print(\"4. Division\")\n",
    "\n",
    "#This is where we take the user input in the application\n",
    "while True:\n",
    "#checks if user's choice is one of the four operations \n",
    "    user_choice = input(\"Pick an operation(1, 2, 3, 4): \")\n",
    "    if user_choice in ('1', '2', '3', '4'):\n",
    "        number_1 = float(input(\"Please enter the first number: \"))\n",
    "        number_2 = float(input(\"Please enter the second number: \"))\n",
    "#print accordingly based on user's input of numbers and desired operation\n",
    "        if user_choice == '1':\n",
    "            print(number_1, \"+\", number_2, \"=\", addition(number_1, number_2))\n",
    "\n",
    "        elif user_choice == '2':\n",
    "            print(number_1, \"-\", number_2, \"=\", subtraction(number_1, number_2))\n",
    "\n",
    "        elif user_choice == '3':\n",
    "            print(number_1, \"*\", number_2, \"=\", multiplication(number_1, number_2))\n",
    "\n",
    "        elif user_choice == '4':\n",
    "            print(number_1, \"/\", number_2, \"=\", division(number_1, number_2))\n",
    "        break\n",
    "    else:\n",
    "        print(\"Input Error, Please try a different operation. \")"
   ]
  },
  {
   "cell_type": "markdown",
   "metadata": {},
   "source": []
  }
 ],
 "metadata": {
  "kernelspec": {
   "display_name": "Python 3",
   "language": "python",
   "name": "python3"
  },
  "language_info": {
   "codemirror_mode": {
    "name": "ipython",
    "version": 3
   },
   "file_extension": ".py",
   "mimetype": "text/x-python",
   "name": "python",
   "nbconvert_exporter": "python",
   "pygments_lexer": "ipython3",
   "version": "3.8.5"
  }
 },
 "nbformat": 4,
 "nbformat_minor": 4
}
